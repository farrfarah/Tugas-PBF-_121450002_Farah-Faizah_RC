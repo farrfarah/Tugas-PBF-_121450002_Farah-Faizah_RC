{
 "cells": [
  {
   "cell_type": "markdown",
   "metadata": {},
   "source": []
  },
  {
   "attachments": {},
   "cell_type": "markdown",
   "metadata": {},
   "source": [
    "Tugas 1 : Pemrograman Basis Fungsi"
   ]
  },
  {
   "attachments": {},
   "cell_type": "markdown",
   "metadata": {},
   "source": [
    "Nama    : Farah Faizah\\\n",
    "NIM     : 121450002\\\n",
    "Kelas   : RC\\\n",
    "Dosen   : Ahmad Luky Ramdani, S.Komp., M.Kom"
   ]
  },
  {
   "attachments": {},
   "cell_type": "markdown",
   "metadata": {},
   "source": [
    "*Soal 1*\\\n",
    "Jelaskan menggunakan tabel mengenai kelebihan dan kekurangan paradigma procedural dibandingkan dengan object oriented (Minimal 3)"
   ]
  },
  {
   "attachments": {},
   "cell_type": "markdown",
   "metadata": {},
   "source": [
    "Kelebihan Procedural dibandingkan Object Oriented"
   ]
  },
  {
   "attachments": {},
   "cell_type": "markdown",
   "metadata": {},
   "source": [
    "|Procedural||Object Oriented|\n",
    "|----------||---------------|\n",
    "|Berfokus pada fungsi dan prosedur yang beroperasi pada data secara teratur||Penekanannya pada data yang tengah beroperasi dan tidak pada fungsi atau prosedur|\n",
    "|Atribut/data dapat diakses serta diubah nilainya secara langsung||Atribut/data tidak dapat diakses dan diubah secara langsung, melainkan harus melalui suatu metode|\n",
    "|Lebih heat memori karena ukuran program yang dihasilkan lebih kecil dibandingkan program yang menggunakan OOP||Ukuran program yang dihasilkan OOP lebih besar dibandingkan dengan program yang dikerjakan menggunakan Prosedural|"
   ]
  },
  {
   "attachments": {},
   "cell_type": "markdown",
   "metadata": {},
   "source": [
    "Kekurangan Procedural dibandingkan Object Oriented"
   ]
  },
  {
   "attachments": {},
   "cell_type": "markdown",
   "metadata": {},
   "source": [
    "|Procedural||Object Oriented|\n",
    "|----------||---------------|\n",
    "|Kode tidak dapat digunakan ulang||Kode dapat digunakan ulang pada program lain|\n",
    "|Objek-objek bersifat aktif||Datanya bersifat pasif|\n",
    "|Cocok untuk pemecahan masalah sederhana||Bisa dipergunakan untuk memecahkan masalah yang kompleks|"
   ]
  },
  {
   "attachments": {},
   "cell_type": "markdown",
   "metadata": {},
   "source": [
    "*Soal 2*\\\n",
    "Jelaskan menggunakan tabel mengenai kelebihan dan kekurangan paradigma Object Oriented dibandingkan dengan Functional(minimal 3)!"
   ]
  },
  {
   "attachments": {},
   "cell_type": "markdown",
   "metadata": {},
   "source": [
    "Kelebihan Object Oriented dibandingkan Functional"
   ]
  },
  {
   "attachments": {},
   "cell_type": "markdown",
   "metadata": {
    "vscode": {
     "languageId": "html"
    }
   },
   "source": [
    "|Object Oriented||Functional|\n",
    "|---------------||----------|\n",
    "|Membuat pengolahan data/objek lebih mudah dipahami||Relatif sulit untuk dipelajari oleh pemula|\n",
    "|Cocok digunakan untuk project besar||Kurang cocok untuk projek besar dibandingkan OOP|\n",
    "|Data bersifat mutable||Data bersifat imutable|"
   ]
  },
  {
   "attachments": {},
   "cell_type": "markdown",
   "metadata": {},
   "source": [
    "Kekurangan Object Oriented dibandingkan Functional"
   ]
  },
  {
   "cell_type": "markdown",
   "metadata": {
    "vscode": {
     "languageId": "html"
    }
   },
   "source": [
    "|Object Oriented||Functional|\n",
    "|---------------||----------|\n",
    "|Waktu yang diperlukan untuk runtime sangat lambat||Runtime lebih cepat dibandingkan OOP|\n",
    "|Mmebutuh memori yang besar||Memori yang digunakan lebih kecil dibandingkan OOP|\n",
    "|Program yang dibangun menggunakan OOP membutuhkan waktu lebih lama untuk di buat||Waktu yang diperlukan untuk membuat program lebih cepat dibandingkan dengan OOP|"
   ]
  },
  {
   "attachments": {},
   "cell_type": "markdown",
   "metadata": {},
   "source": [
    "*Soal 3*\\\n",
    "Jelaskan menggunakan tabel mengenai kelebihan dan kekurangan paradigma Procedural dibandingkan dengan Functional(minimal 3)!"
   ]
  },
  {
   "attachments": {},
   "cell_type": "markdown",
   "metadata": {},
   "source": [
    "Kelebihan Procedural dibandingkan Functional"
   ]
  },
  {
   "attachments": {},
   "cell_type": "markdown",
   "metadata": {
    "vscode": {
     "languageId": "html"
    }
   },
   "source": [
    "|Procedural||Functional|\n",
    "|----------||----------|\n",
    "|Data bersifat mutable||Data bersifat imutable|\n",
    "|Memori yang digunakan lebih sedikit||Memori yang digunakan lebih banyak dibandingkan dengan Procedural|\n",
    "|Program lebih sederhana karena tidak memerlukan fungsi yang rumit||Program lebih kompleks karena membutuhkan beberapa fungsi yang relatif rumit|"
   ]
  },
  {
   "attachments": {},
   "cell_type": "markdown",
   "metadata": {},
   "source": [
    "Kekurangan Procedural dibandingkan Functional"
   ]
  },
  {
   "attachments": {},
   "cell_type": "markdown",
   "metadata": {
    "vscode": {
     "languageId": "html"
    }
   },
   "source": [
    "|Procedural||Functional|\n",
    "|----------||----------|\n",
    "|Kodenya lebih banyak karena jarang menggunakan fungsi||Kode lebih sedikit karena menggunakan fungsi|\n",
    "|Debbuging lebih susah||Debugging lebih mudah|\n",
    "|Fungsi-fungsinya tidak reusable||Fungsinya reusable|"
   ]
  },
  {
   "attachments": {},
   "cell_type": "markdown",
   "metadata": {},
   "source": [
    "*Soal 4*\\\n",
    "Apa yang dimaksud dengan pure functional programming language?"
   ]
  },
  {
   "attachments": {},
   "cell_type": "markdown",
   "metadata": {},
   "source": [
    "Bahasa pemrograman fungsional murni adalah bahasa pemrograman yang menggunakan paradigma dalam menyelesaikan masalah didasari dengan konsep pemetaan dan fungsi matematika dan tidak menghasilkan efek samping (penggunaan ketergantungan eksternal atau mutasi variabel) pada program."
   ]
  },
  {
   "attachments": {},
   "cell_type": "markdown",
   "metadata": {},
   "source": [
    "*Soal 5* \\\n",
    "Dari bahasa pemrograman FP di slide sebelumnya (slide 14), manakah yang termasuk pure functional programming language?"
   ]
  },
  {
   "attachments": {},
   "cell_type": "markdown",
   "metadata": {},
   "source": [
    "Haskell merupakan pure functional programming language"
   ]
  },
  {
   "attachments": {},
   "cell_type": "markdown",
   "metadata": {},
   "source": [
    "*Soal 6*\\\n",
    "Membuat program simple password encryption, dengan ketentuan :\n",
    "1. Input password bertipe string dengan batasan panjang password 100 karakter\n",
    "2. Setiap karakter dari string tersebut diubah menjadi ASCII value\n",
    "3. Kemudian setiap ASCII value tersebut dikembangkan menjadi 3 value dengan dilakukan operasi berikut:\n",
    " 1. Value pertama dibagi dengan integer 26 kemudian dibulatkan dan dijumlahkan dengan 80 kemudian diubah kembali menjadi karakter\n",
    " 2. Value kedua dihitung sisa bagi dengan 26 kemudian dijumlahkan dengan 80 kemudian diubah kembali menjadi karakter\n",
    " 3. Value ketiga adalah karakter '+' jika value pertama lebih besar dari value kedua, atau value ketiga adalah karakter '-' jika value pertama tidak lebih besar dari value kedua\n",
    " 4. Deretkan value pertama, kedua dan ketiga untuk setiap karakter dalam password tersebut sehingga didapatkan password dalam bentuk baru"
   ]
  },
  {
   "attachments": {},
   "cell_type": "markdown",
   "metadata": {},
   "source": [
    "1. Bantulah user tersebut dengan membuatkan sebuah program yang secara otomatis mengubah password yang di input menjadi terenkripsi sesuai aturan tersbut!"
   ]
  },
  {
   "cell_type": "code",
   "execution_count": 7,
   "metadata": {
    "vscode": {
     "languageId": "html"
    }
   },
   "outputs": [],
   "source": [
    "# membuat fungsi enkripsi\n",
    "def enkripsi (pw):\n",
    "    #jika panjang dari karakter >100\n",
    "    if len(pw) > 100 or len(pw) == 0:\n",
    "        print(\"Masukkan password (rentang 1-100\")\n",
    "    else :\n",
    "        ascii = [str(ord(i)) for i in pw]\n",
    "        enkrip = ''.join(chr((int(j)//26)+80)+chr((int(j)%26)+80)+('-' if (int(j)//26)+80 < (int(j)%26)+80 else '+') for  j in ascii)\n",
    "        print(\"Enkripsi password dari : \", pw, \"adalaah\", enkrip)\n",
    "\n",
    "# membuat fungsi deskripsi\n",
    "def deskripsi(pw):\n",
    "    # split 3 value\n",
    "    split_pw = [(pw[k:k+3]) for k in range(0, len(pw), 3)]\n",
    "    # membuat 3 value kembali ke kode ascii lalu ke karakter asli dan menggabungkannya\n",
    "    dekrip = ''.join(chr(((ord(list(a)[0])-80)*26)+(ord(list(a)[1])-80)) for a in split_pw)\n",
    "    print(\"Passwordnya adalah : \", dekrip)"
   ]
  },
  {
   "attachments": {},
   "cell_type": "markdown",
   "metadata": {},
   "source": [
    "2. Apa output yang dihasilkan dari program tersebut jika input password adalah 'anakanakcerdas2020'?"
   ]
  },
  {
   "cell_type": "code",
   "execution_count": 9,
   "metadata": {
    "vscode": {
     "languageId": "html"
    }
   },
   "outputs": [
    {
     "name": "stdout",
     "output_type": "stream",
     "text": [
      "Enkripsi password dari :  anakanakcerdas2020 adalaah Sc-TV-Sc-TS+Sc-TV-Sc-TS+Se-Sg-TZ-Sf-Sc-T[-Qh-Qf-Qh-Qf-\n"
     ]
    }
   ],
   "source": [
    "pw = input(\"Masukkan Password : \")\n",
    "enkripsi(pw)"
   ]
  },
  {
   "attachments": {},
   "cell_type": "markdown",
   "metadata": {},
   "source": [
    "3. (Bonus) User lupa password asli yang dia inputkan ke dalam program tersebut, password setelah di enkripsi adalah 'Sc-TV-Sc-TS+T[-Sc-TQ+TV-T[-Sf-Sc-T-Sc-Qh-Qf-Qh-Qf-TS+Sg-Se-Sg-'. Bantulah user tersebut mendapatkan password aslinya!"
   ]
  },
  {
   "cell_type": "code",
   "execution_count": 11,
   "metadata": {
    "vscode": {
     "languageId": "html"
    }
   },
   "outputs": [
    {
     "name": "stdout",
     "output_type": "stream",
     "text": [
      "Passwordnya adalah :  anaksainsdata2020kece\n"
     ]
    }
   ],
   "source": [
    "enkrip = input(\"Masukkan password enkripsi : \")\n",
    "deskripsi(enkrip)"
   ]
  }
 ],
 "metadata": {
  "kernelspec": {
   "display_name": "Python 3",
   "language": "python",
   "name": "python3"
  },
  "language_info": {
   "codemirror_mode": {
    "name": "ipython",
    "version": 3
   },
   "file_extension": ".py",
   "mimetype": "text/x-python",
   "name": "python",
   "nbconvert_exporter": "python",
   "pygments_lexer": "ipython3",
   "version": "3.10.6 (tags/v3.10.6:9c7b4bd, Aug  1 2022, 21:53:49) [MSC v.1932 64 bit (AMD64)]"
  },
  "orig_nbformat": 4,
  "vscode": {
   "interpreter": {
    "hash": "876db7d3f8682b7e4c5477e5f1e2dc2bd1b19fe05d9aabd59218369070754b39"
   }
  }
 },
 "nbformat": 4,
 "nbformat_minor": 2
}
